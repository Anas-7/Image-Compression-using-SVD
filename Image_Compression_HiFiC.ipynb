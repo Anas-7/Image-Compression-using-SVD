{
 "cells": [
  {
   "cell_type": "markdown",
   "metadata": {
    "id": "ErOf16E05Dn7"
   },
   "source": [
    "# High-Fidelity Generative Image Compression\n",
    "\n",
    "This colab can be used to compress images using HiFiC. This can also be achieved\n",
    "by running `tfci.py`, as [explained in the README](https://github.com/tensorflow/compression/tree/master/models/hific#running-models-trained-by-us-locally).\n",
    "\n",
    "Please visit [hific.github.io](https://hific.github.io) for more information."
   ]
  },
  {
   "cell_type": "markdown",
   "metadata": {
    "id": "Umer7W0VbITT"
   },
   "source": [
    "## Setup Colab"
   ]
  },
  {
   "cell_type": "code",
   "execution_count": null,
   "metadata": {
    "colab": {
     "base_uri": "https://localhost:8080/"
    },
    "id": "LO_MNEQ7Bhbw",
    "outputId": "2b4e8541-f61d-41e4-c2f0-b8e207fc124a"
   },
   "outputs": [
    {
     "name": "stdout",
     "output_type": "stream",
     "text": [
      "Collecting tensorflow-compression~=2.14.0\n",
      "  Downloading tensorflow_compression-2.14.0-cp310-cp310-manylinux_2_17_x86_64.manylinux2014_x86_64.whl (257 kB)\n",
      "\u001b[2K     \u001b[90m━━━━━━━━━━━━━━━━━━━━━━━━━━━━━━━━━━━━━━━━\u001b[0m \u001b[32m257.7/257.7 kB\u001b[0m \u001b[31m5.5 MB/s\u001b[0m eta \u001b[36m0:00:00\u001b[0m\n",
      "\u001b[?25hRequirement already satisfied: scipy~=1.4 in /usr/local/lib/python3.10/dist-packages (from tensorflow-compression~=2.14.0) (1.11.3)\n",
      "Requirement already satisfied: tensorflow~=2.14.0 in /usr/local/lib/python3.10/dist-packages (from tensorflow-compression~=2.14.0) (2.14.0)\n",
      "Requirement already satisfied: tensorflow-probability~=0.15 in /usr/local/lib/python3.10/dist-packages (from tensorflow-compression~=2.14.0) (0.22.0)\n",
      "Requirement already satisfied: numpy<1.28.0,>=1.21.6 in /usr/local/lib/python3.10/dist-packages (from scipy~=1.4->tensorflow-compression~=2.14.0) (1.23.5)\n",
      "Requirement already satisfied: absl-py>=1.0.0 in /usr/local/lib/python3.10/dist-packages (from tensorflow~=2.14.0->tensorflow-compression~=2.14.0) (1.4.0)\n",
      "Requirement already satisfied: astunparse>=1.6.0 in /usr/local/lib/python3.10/dist-packages (from tensorflow~=2.14.0->tensorflow-compression~=2.14.0) (1.6.3)\n",
      "Requirement already satisfied: flatbuffers>=23.5.26 in /usr/local/lib/python3.10/dist-packages (from tensorflow~=2.14.0->tensorflow-compression~=2.14.0) (23.5.26)\n",
      "Requirement already satisfied: gast!=0.5.0,!=0.5.1,!=0.5.2,>=0.2.1 in /usr/local/lib/python3.10/dist-packages (from tensorflow~=2.14.0->tensorflow-compression~=2.14.0) (0.5.4)\n",
      "Requirement already satisfied: google-pasta>=0.1.1 in /usr/local/lib/python3.10/dist-packages (from tensorflow~=2.14.0->tensorflow-compression~=2.14.0) (0.2.0)\n",
      "Requirement already satisfied: h5py>=2.9.0 in /usr/local/lib/python3.10/dist-packages (from tensorflow~=2.14.0->tensorflow-compression~=2.14.0) (3.9.0)\n",
      "Requirement already satisfied: libclang>=13.0.0 in /usr/local/lib/python3.10/dist-packages (from tensorflow~=2.14.0->tensorflow-compression~=2.14.0) (16.0.6)\n",
      "Requirement already satisfied: ml-dtypes==0.2.0 in /usr/local/lib/python3.10/dist-packages (from tensorflow~=2.14.0->tensorflow-compression~=2.14.0) (0.2.0)\n",
      "Requirement already satisfied: opt-einsum>=2.3.2 in /usr/local/lib/python3.10/dist-packages (from tensorflow~=2.14.0->tensorflow-compression~=2.14.0) (3.3.0)\n",
      "Requirement already satisfied: packaging in /usr/local/lib/python3.10/dist-packages (from tensorflow~=2.14.0->tensorflow-compression~=2.14.0) (23.2)\n",
      "Requirement already satisfied: protobuf!=4.21.0,!=4.21.1,!=4.21.2,!=4.21.3,!=4.21.4,!=4.21.5,<5.0.0dev,>=3.20.3 in /usr/local/lib/python3.10/dist-packages (from tensorflow~=2.14.0->tensorflow-compression~=2.14.0) (3.20.3)\n",
      "Requirement already satisfied: setuptools in /usr/local/lib/python3.10/dist-packages (from tensorflow~=2.14.0->tensorflow-compression~=2.14.0) (67.7.2)\n",
      "Requirement already satisfied: six>=1.12.0 in /usr/local/lib/python3.10/dist-packages (from tensorflow~=2.14.0->tensorflow-compression~=2.14.0) (1.16.0)\n",
      "Requirement already satisfied: termcolor>=1.1.0 in /usr/local/lib/python3.10/dist-packages (from tensorflow~=2.14.0->tensorflow-compression~=2.14.0) (2.3.0)\n",
      "Requirement already satisfied: typing-extensions>=3.6.6 in /usr/local/lib/python3.10/dist-packages (from tensorflow~=2.14.0->tensorflow-compression~=2.14.0) (4.5.0)\n",
      "Requirement already satisfied: wrapt<1.15,>=1.11.0 in /usr/local/lib/python3.10/dist-packages (from tensorflow~=2.14.0->tensorflow-compression~=2.14.0) (1.14.1)\n",
      "Requirement already satisfied: tensorflow-io-gcs-filesystem>=0.23.1 in /usr/local/lib/python3.10/dist-packages (from tensorflow~=2.14.0->tensorflow-compression~=2.14.0) (0.34.0)\n",
      "Requirement already satisfied: grpcio<2.0,>=1.24.3 in /usr/local/lib/python3.10/dist-packages (from tensorflow~=2.14.0->tensorflow-compression~=2.14.0) (1.59.2)\n",
      "Requirement already satisfied: tensorboard<2.15,>=2.14 in /usr/local/lib/python3.10/dist-packages (from tensorflow~=2.14.0->tensorflow-compression~=2.14.0) (2.14.1)\n",
      "Requirement already satisfied: tensorflow-estimator<2.15,>=2.14.0 in /usr/local/lib/python3.10/dist-packages (from tensorflow~=2.14.0->tensorflow-compression~=2.14.0) (2.14.0)\n",
      "Requirement already satisfied: keras<2.15,>=2.14.0 in /usr/local/lib/python3.10/dist-packages (from tensorflow~=2.14.0->tensorflow-compression~=2.14.0) (2.14.0)\n",
      "Requirement already satisfied: decorator in /usr/local/lib/python3.10/dist-packages (from tensorflow-probability~=0.15->tensorflow-compression~=2.14.0) (4.4.2)\n",
      "Requirement already satisfied: cloudpickle>=1.3 in /usr/local/lib/python3.10/dist-packages (from tensorflow-probability~=0.15->tensorflow-compression~=2.14.0) (2.2.1)\n",
      "Requirement already satisfied: dm-tree in /usr/local/lib/python3.10/dist-packages (from tensorflow-probability~=0.15->tensorflow-compression~=2.14.0) (0.1.8)\n",
      "Requirement already satisfied: wheel<1.0,>=0.23.0 in /usr/local/lib/python3.10/dist-packages (from astunparse>=1.6.0->tensorflow~=2.14.0->tensorflow-compression~=2.14.0) (0.41.3)\n",
      "Requirement already satisfied: google-auth<3,>=1.6.3 in /usr/local/lib/python3.10/dist-packages (from tensorboard<2.15,>=2.14->tensorflow~=2.14.0->tensorflow-compression~=2.14.0) (2.17.3)\n",
      "Requirement already satisfied: google-auth-oauthlib<1.1,>=0.5 in /usr/local/lib/python3.10/dist-packages (from tensorboard<2.15,>=2.14->tensorflow~=2.14.0->tensorflow-compression~=2.14.0) (1.0.0)\n",
      "Requirement already satisfied: markdown>=2.6.8 in /usr/local/lib/python3.10/dist-packages (from tensorboard<2.15,>=2.14->tensorflow~=2.14.0->tensorflow-compression~=2.14.0) (3.5.1)\n",
      "Requirement already satisfied: requests<3,>=2.21.0 in /usr/local/lib/python3.10/dist-packages (from tensorboard<2.15,>=2.14->tensorflow~=2.14.0->tensorflow-compression~=2.14.0) (2.31.0)\n",
      "Requirement already satisfied: tensorboard-data-server<0.8.0,>=0.7.0 in /usr/local/lib/python3.10/dist-packages (from tensorboard<2.15,>=2.14->tensorflow~=2.14.0->tensorflow-compression~=2.14.0) (0.7.2)\n",
      "Requirement already satisfied: werkzeug>=1.0.1 in /usr/local/lib/python3.10/dist-packages (from tensorboard<2.15,>=2.14->tensorflow~=2.14.0->tensorflow-compression~=2.14.0) (3.0.1)\n",
      "Requirement already satisfied: cachetools<6.0,>=2.0.0 in /usr/local/lib/python3.10/dist-packages (from google-auth<3,>=1.6.3->tensorboard<2.15,>=2.14->tensorflow~=2.14.0->tensorflow-compression~=2.14.0) (5.3.2)\n",
      "Requirement already satisfied: pyasn1-modules>=0.2.1 in /usr/local/lib/python3.10/dist-packages (from google-auth<3,>=1.6.3->tensorboard<2.15,>=2.14->tensorflow~=2.14.0->tensorflow-compression~=2.14.0) (0.3.0)\n",
      "Requirement already satisfied: rsa<5,>=3.1.4 in /usr/local/lib/python3.10/dist-packages (from google-auth<3,>=1.6.3->tensorboard<2.15,>=2.14->tensorflow~=2.14.0->tensorflow-compression~=2.14.0) (4.9)\n",
      "Requirement already satisfied: requests-oauthlib>=0.7.0 in /usr/local/lib/python3.10/dist-packages (from google-auth-oauthlib<1.1,>=0.5->tensorboard<2.15,>=2.14->tensorflow~=2.14.0->tensorflow-compression~=2.14.0) (1.3.1)\n",
      "Requirement already satisfied: charset-normalizer<4,>=2 in /usr/local/lib/python3.10/dist-packages (from requests<3,>=2.21.0->tensorboard<2.15,>=2.14->tensorflow~=2.14.0->tensorflow-compression~=2.14.0) (3.3.2)\n",
      "Requirement already satisfied: idna<4,>=2.5 in /usr/local/lib/python3.10/dist-packages (from requests<3,>=2.21.0->tensorboard<2.15,>=2.14->tensorflow~=2.14.0->tensorflow-compression~=2.14.0) (3.4)\n",
      "Requirement already satisfied: urllib3<3,>=1.21.1 in /usr/local/lib/python3.10/dist-packages (from requests<3,>=2.21.0->tensorboard<2.15,>=2.14->tensorflow~=2.14.0->tensorflow-compression~=2.14.0) (2.0.7)\n",
      "Requirement already satisfied: certifi>=2017.4.17 in /usr/local/lib/python3.10/dist-packages (from requests<3,>=2.21.0->tensorboard<2.15,>=2.14->tensorflow~=2.14.0->tensorflow-compression~=2.14.0) (2023.7.22)\n",
      "Requirement already satisfied: MarkupSafe>=2.1.1 in /usr/local/lib/python3.10/dist-packages (from werkzeug>=1.0.1->tensorboard<2.15,>=2.14->tensorflow~=2.14.0->tensorflow-compression~=2.14.0) (2.1.3)\n",
      "Requirement already satisfied: pyasn1<0.6.0,>=0.4.6 in /usr/local/lib/python3.10/dist-packages (from pyasn1-modules>=0.2.1->google-auth<3,>=1.6.3->tensorboard<2.15,>=2.14->tensorflow~=2.14.0->tensorflow-compression~=2.14.0) (0.5.0)\n",
      "Requirement already satisfied: oauthlib>=3.0.0 in /usr/local/lib/python3.10/dist-packages (from requests-oauthlib>=0.7.0->google-auth-oauthlib<1.1,>=0.5->tensorboard<2.15,>=2.14->tensorflow~=2.14.0->tensorflow-compression~=2.14.0) (3.2.2)\n",
      "Installing collected packages: tensorflow-compression\n",
      "Successfully installed tensorflow-compression-2.14.0\n",
      "Cloning into '/tfc'...\n",
      "remote: Enumerating objects: 3006, done.\u001b[K\n",
      "remote: Counting objects: 100% (427/427), done.\u001b[K\n",
      "remote: Compressing objects: 100% (208/208), done.\u001b[K\n",
      "remote: Total 3006 (delta 251), reused 345 (delta 216), pack-reused 2579\u001b[K\n",
      "Receiving objects: 100% (3006/3006), 1.40 MiB | 20.21 MiB/s, done.\n",
      "Resolving deltas: 100% (1996/1996), done.\n",
      "/tfc/models\n"
     ]
    }
   ],
   "source": [
    "# Installs the latest version of TFC compatible with the installed TF version.\n",
    "!pip install tensorflow-compression~=$(pip show tensorflow | perl -p -0777 -e 's/.*Version: (\\d+\\.\\d+).*/\\1.0/sg')\n",
    "\n",
    "# Downloads the 'models' directory from Github.\n",
    "![[ -e /tfc ]] || git clone https://github.com/tensorflow/compression /tfc\n",
    "%cd /tfc/models\n",
    "\n",
    "# Checks if tfci.py is available.\n",
    "import tfci\n",
    "\n"
   ]
  },
  {
   "cell_type": "markdown",
   "metadata": {
    "id": "op4hPwy_mkPm"
   },
   "source": [
    "## Enabling GPU\n",
    "\n",
    "GPU should be enabled for this colab. If the next cell prints a warning, do the following:\n",
    "- Navigate to Edit→Notebook Settings\n",
    "- select GPU from the Hardware Accelerator drop-down\n"
   ]
  },
  {
   "cell_type": "code",
   "execution_count": null,
   "metadata": {
    "colab": {
     "base_uri": "https://localhost:8080/"
    },
    "id": "x-yLUG_tmo3M",
    "outputId": "2262d91a-2f05-478e-be31-2468d9966c5e"
   },
   "outputs": [
    {
     "name": "stdout",
     "output_type": "stream",
     "text": [
      "Found GPU.\n"
     ]
    }
   ],
   "source": [
    "import tensorflow as tf\n",
    "\n",
    "if not tf.config.list_physical_devices('GPU'):\n",
    "  print('WARNING: No GPU found. Might be slow!')\n",
    "else:\n",
    "  print('Found GPU.')"
   ]
  },
  {
   "cell_type": "markdown",
   "metadata": {
    "id": "rQ9-8ZsTf7Hj"
   },
   "source": [
    "## Imports and Definitions"
   ]
  },
  {
   "cell_type": "code",
   "execution_count": null,
   "metadata": {
    "id": "vtd1l70Pf95V"
   },
   "outputs": [],
   "source": [
    "import os\n",
    "import zipfile\n",
    "from google.colab import files\n",
    "import collections\n",
    "from PIL import Image\n",
    "from IPython.display import Image as DisplayImage\n",
    "from IPython.display import Javascript\n",
    "from IPython.core.display import display, HTML\n",
    "import tfci\n",
    "import urllib.request\n",
    "\n",
    "tf.get_logger().setLevel('WARN')  # Only show Warnings\n",
    "\n",
    "FILES_DIR = '/content/files'\n",
    "OUT_DIR = '/content/out'\n",
    "DEFAULT_IMAGE_URL = ('https://storage.googleapis.com/hific/clic2020/'\n",
    "                     'images/originals/ad249bba099568403dc6b97bc37f8d74.png')\n",
    "\n",
    "os.makedirs(FILES_DIR, exist_ok=True)\n",
    "os.makedirs(OUT_DIR, exist_ok=True)\n",
    "\n",
    "File = collections.namedtuple('File', ['full_path', 'num_bytes', 'bpp'])\n",
    "\n",
    "def print_html(html):\n",
    "  display(HTML(html + '<br/>'))\n",
    "\n",
    "def make_cell_large():\n",
    "  display(Javascript(\n",
    "      '''google.colab.output.setIframeHeight(0, true, {maxHeight: 5000})'''))\n",
    "\n",
    "def get_default_image(output_dir):\n",
    "  output_path = os.path.join(output_dir, os.path.basename(DEFAULT_IMAGE_URL))\n",
    "  print('Downloading', DEFAULT_IMAGE_URL, '\\n->', output_path)\n",
    "  urllib.request.urlretrieve(DEFAULT_IMAGE_URL, output_path)\n"
   ]
  },
  {
   "cell_type": "markdown",
   "metadata": {
    "id": "4Ngs9WvmbTMH"
   },
   "source": [
    "## Load files"
   ]
  },
  {
   "cell_type": "code",
   "execution_count": null,
   "metadata": {
    "colab": {
     "base_uri": "https://localhost:8080/",
     "height": 90
    },
    "id": "NgtIlL2ADCI2",
    "outputId": "0ac7e094-e266-4dc7-dc8d-9fb358ef827e"
   },
   "outputs": [
    {
     "data": {
      "text/html": [
       "\n",
       "     <input type=\"file\" id=\"files-ef4963da-bd27-4040-ac47-77695fa8db55\" name=\"files[]\" multiple disabled\n",
       "        style=\"border:none\" />\n",
       "     <output id=\"result-ef4963da-bd27-4040-ac47-77695fa8db55\">\n",
       "      Upload widget is only available when the cell has been executed in the\n",
       "      current browser session. Please rerun this cell to enable.\n",
       "      </output>\n",
       "      <script>// Copyright 2017 Google LLC\n",
       "//\n",
       "// Licensed under the Apache License, Version 2.0 (the \"License\");\n",
       "// you may not use this file except in compliance with the License.\n",
       "// You may obtain a copy of the License at\n",
       "//\n",
       "//      http://www.apache.org/licenses/LICENSE-2.0\n",
       "//\n",
       "// Unless required by applicable law or agreed to in writing, software\n",
       "// distributed under the License is distributed on an \"AS IS\" BASIS,\n",
       "// WITHOUT WARRANTIES OR CONDITIONS OF ANY KIND, either express or implied.\n",
       "// See the License for the specific language governing permissions and\n",
       "// limitations under the License.\n",
       "\n",
       "/**\n",
       " * @fileoverview Helpers for google.colab Python module.\n",
       " */\n",
       "(function(scope) {\n",
       "function span(text, styleAttributes = {}) {\n",
       "  const element = document.createElement('span');\n",
       "  element.textContent = text;\n",
       "  for (const key of Object.keys(styleAttributes)) {\n",
       "    element.style[key] = styleAttributes[key];\n",
       "  }\n",
       "  return element;\n",
       "}\n",
       "\n",
       "// Max number of bytes which will be uploaded at a time.\n",
       "const MAX_PAYLOAD_SIZE = 100 * 1024;\n",
       "\n",
       "function _uploadFiles(inputId, outputId) {\n",
       "  const steps = uploadFilesStep(inputId, outputId);\n",
       "  const outputElement = document.getElementById(outputId);\n",
       "  // Cache steps on the outputElement to make it available for the next call\n",
       "  // to uploadFilesContinue from Python.\n",
       "  outputElement.steps = steps;\n",
       "\n",
       "  return _uploadFilesContinue(outputId);\n",
       "}\n",
       "\n",
       "// This is roughly an async generator (not supported in the browser yet),\n",
       "// where there are multiple asynchronous steps and the Python side is going\n",
       "// to poll for completion of each step.\n",
       "// This uses a Promise to block the python side on completion of each step,\n",
       "// then passes the result of the previous step as the input to the next step.\n",
       "function _uploadFilesContinue(outputId) {\n",
       "  const outputElement = document.getElementById(outputId);\n",
       "  const steps = outputElement.steps;\n",
       "\n",
       "  const next = steps.next(outputElement.lastPromiseValue);\n",
       "  return Promise.resolve(next.value.promise).then((value) => {\n",
       "    // Cache the last promise value to make it available to the next\n",
       "    // step of the generator.\n",
       "    outputElement.lastPromiseValue = value;\n",
       "    return next.value.response;\n",
       "  });\n",
       "}\n",
       "\n",
       "/**\n",
       " * Generator function which is called between each async step of the upload\n",
       " * process.\n",
       " * @param {string} inputId Element ID of the input file picker element.\n",
       " * @param {string} outputId Element ID of the output display.\n",
       " * @return {!Iterable<!Object>} Iterable of next steps.\n",
       " */\n",
       "function* uploadFilesStep(inputId, outputId) {\n",
       "  const inputElement = document.getElementById(inputId);\n",
       "  inputElement.disabled = false;\n",
       "\n",
       "  const outputElement = document.getElementById(outputId);\n",
       "  outputElement.innerHTML = '';\n",
       "\n",
       "  const pickedPromise = new Promise((resolve) => {\n",
       "    inputElement.addEventListener('change', (e) => {\n",
       "      resolve(e.target.files);\n",
       "    });\n",
       "  });\n",
       "\n",
       "  const cancel = document.createElement('button');\n",
       "  inputElement.parentElement.appendChild(cancel);\n",
       "  cancel.textContent = 'Cancel upload';\n",
       "  const cancelPromise = new Promise((resolve) => {\n",
       "    cancel.onclick = () => {\n",
       "      resolve(null);\n",
       "    };\n",
       "  });\n",
       "\n",
       "  // Wait for the user to pick the files.\n",
       "  const files = yield {\n",
       "    promise: Promise.race([pickedPromise, cancelPromise]),\n",
       "    response: {\n",
       "      action: 'starting',\n",
       "    }\n",
       "  };\n",
       "\n",
       "  cancel.remove();\n",
       "\n",
       "  // Disable the input element since further picks are not allowed.\n",
       "  inputElement.disabled = true;\n",
       "\n",
       "  if (!files) {\n",
       "    return {\n",
       "      response: {\n",
       "        action: 'complete',\n",
       "      }\n",
       "    };\n",
       "  }\n",
       "\n",
       "  for (const file of files) {\n",
       "    const li = document.createElement('li');\n",
       "    li.append(span(file.name, {fontWeight: 'bold'}));\n",
       "    li.append(span(\n",
       "        `(${file.type || 'n/a'}) - ${file.size} bytes, ` +\n",
       "        `last modified: ${\n",
       "            file.lastModifiedDate ? file.lastModifiedDate.toLocaleDateString() :\n",
       "                                    'n/a'} - `));\n",
       "    const percent = span('0% done');\n",
       "    li.appendChild(percent);\n",
       "\n",
       "    outputElement.appendChild(li);\n",
       "\n",
       "    const fileDataPromise = new Promise((resolve) => {\n",
       "      const reader = new FileReader();\n",
       "      reader.onload = (e) => {\n",
       "        resolve(e.target.result);\n",
       "      };\n",
       "      reader.readAsArrayBuffer(file);\n",
       "    });\n",
       "    // Wait for the data to be ready.\n",
       "    let fileData = yield {\n",
       "      promise: fileDataPromise,\n",
       "      response: {\n",
       "        action: 'continue',\n",
       "      }\n",
       "    };\n",
       "\n",
       "    // Use a chunked sending to avoid message size limits. See b/62115660.\n",
       "    let position = 0;\n",
       "    do {\n",
       "      const length = Math.min(fileData.byteLength - position, MAX_PAYLOAD_SIZE);\n",
       "      const chunk = new Uint8Array(fileData, position, length);\n",
       "      position += length;\n",
       "\n",
       "      const base64 = btoa(String.fromCharCode.apply(null, chunk));\n",
       "      yield {\n",
       "        response: {\n",
       "          action: 'append',\n",
       "          file: file.name,\n",
       "          data: base64,\n",
       "        },\n",
       "      };\n",
       "\n",
       "      let percentDone = fileData.byteLength === 0 ?\n",
       "          100 :\n",
       "          Math.round((position / fileData.byteLength) * 100);\n",
       "      percent.textContent = `${percentDone}% done`;\n",
       "\n",
       "    } while (position < fileData.byteLength);\n",
       "  }\n",
       "\n",
       "  // All done.\n",
       "  yield {\n",
       "    response: {\n",
       "      action: 'complete',\n",
       "    }\n",
       "  };\n",
       "}\n",
       "\n",
       "scope.google = scope.google || {};\n",
       "scope.google.colab = scope.google.colab || {};\n",
       "scope.google.colab._files = {\n",
       "  _uploadFiles,\n",
       "  _uploadFilesContinue,\n",
       "};\n",
       "})(self);\n",
       "</script> "
      ],
      "text/plain": [
       "<IPython.core.display.HTML object>"
      ]
     },
     "metadata": {},
     "output_type": "display_data"
    },
    {
     "name": "stdout",
     "output_type": "stream",
     "text": [
      "Saving dynamism of a cyclist p3 final.jpg to dynamism of a cyclist p3 final.jpg\n",
      "Writing dynamism of a cyclist p3 final.jpg ...\n"
     ]
    }
   ],
   "source": [
    "#@title Setup { vertical-output: false, run: \"auto\", display-mode: \"form\" }\n",
    "#@markdown #### Custom Images\n",
    "#@markdown Tick the following if you want to upload your own images to compress.\n",
    "#@markdown Otherwise, a default image will be used.\n",
    "#@markdown\n",
    "#@markdown **Note**: We support JPG and PNG (without alpha channels).\n",
    "#@markdown\n",
    "\n",
    "upload_custom_images = True #@param {type:\"boolean\", label:\"HI\"}\n",
    "\n",
    "if upload_custom_images:\n",
    "  uploaded = files.upload()\n",
    "  for name, content in uploaded.items():\n",
    "    with open(os.path.join(FILES_DIR, name), 'wb') as fout:\n",
    "      print('Writing', name, '...')\n",
    "      fout.write(content)\n",
    "\n",
    "#@markdown #### Select a model\n",
    "#@markdown Different models target different bitrates.\n",
    "\n",
    "model = 'hific-lo' #@param [\"hific-lo\", \"hific-mi\", \"hific-hi\"]\n"
   ]
  },
  {
   "cell_type": "code",
   "execution_count": null,
   "metadata": {
    "id": "GYcbc2HupTRD"
   },
   "outputs": [],
   "source": [
    "if 'upload_custom_images' not in locals():\n",
    "  print('ERROR: Please run the previous cell!')\n",
    "  # Setting defaults anyway.\n",
    "  upload_custom_images = False\n",
    "  model = 'hific-lo'"
   ]
  },
  {
   "cell_type": "code",
   "execution_count": null,
   "metadata": {
    "colab": {
     "base_uri": "https://localhost:8080/",
     "height": 73
    },
    "id": "e0C4vMqZsnqA",
    "outputId": "23f034ef-06fa-48f3-cb3c-8dba71eb67b6"
   },
   "outputs": [
    {
     "name": "stdout",
     "output_type": "stream",
     "text": [
      "Got the following files (1):\n",
      "- dynamism of a cyclist p3 final.jpg:\n"
     ]
    },
    {
     "data": {
      "image/png": "[encoded data removed]",
      "text/plain": [
       "<PIL.Image.Image image mode=RGB size=30x21>"
      ]
     },
     "metadata": {},
     "output_type": "display_data"
    }
   ],
   "source": [
    "all_files = os.listdir(FILES_DIR)\n",
    "if not upload_custom_images or not all_files:\n",
    "  print('Downloading default image...')\n",
    "  get_default_image(FILES_DIR)\n",
    "  print()\n",
    "\n",
    "all_files = os.listdir(FILES_DIR)\n",
    "print(f'Got the following files ({len(all_files)}):')\n",
    "\n",
    "for file_name in all_files:\n",
    "  img = Image.open(os.path.join(FILES_DIR, file_name))\n",
    "  w, h = img.size\n",
    "  img = img.resize((w // 15, h // 15))\n",
    "  print('- ' + file_name + ':')\n",
    "  display(img)"
   ]
  },
  {
   "cell_type": "markdown",
   "metadata": {
    "id": "guX3Q_AsTE7-"
   },
   "source": [
    "# Compress images"
   ]
  },
  {
   "cell_type": "code",
   "execution_count": null,
   "metadata": {
    "colab": {
     "base_uri": "https://localhost:8080/"
    },
    "id": "JVTJX-CKa9vH",
    "outputId": "4fc71785-1c7d-47e6-849d-52b60267e66e"
   },
   "outputs": [
    {
     "data": {
      "text/plain": [
       "['dynamism of a cyclist p3 final.jpg']"
      ]
     },
     "execution_count": 7,
     "metadata": {},
     "output_type": "execute_result"
    }
   ],
   "source": [
    "all_files"
   ]
  },
  {
   "cell_type": "code",
   "execution_count": null,
   "metadata": {
    "colab": {
     "base_uri": "https://localhost:8080/"
    },
    "id": "kd02HOhLBj6e",
    "outputId": "a01b6e40-5a1d-4de8-8f0a-93120f236e36"
   },
   "outputs": [
    {
     "name": "stdout",
     "output_type": "stream",
     "text": [
      "Compressing dynamism of a cyclist p3 final with hific-lo ...\n",
      "Compressed to 6452 bytes.\n",
      "Decompressing...\n",
      "All done!\n"
     ]
    }
   ],
   "source": [
    "SUPPORTED_EXT = {'.png', '.jpg'}\n",
    "\n",
    "all_files = os.listdir(FILES_DIR)\n",
    "if not all_files:\n",
    "  raise ValueError(\"Please upload images!\")\n",
    "\n",
    "def get_bpp(image_dimensions, num_bytes):\n",
    "  w, h = image_dimensions\n",
    "  return num_bytes * 8 / (w * h)\n",
    "\n",
    "def has_alpha(img_p):\n",
    "  im = Image.open(img_p)\n",
    "  return im.mode == 'RGBA'\n",
    "\n",
    "all_outputs = []\n",
    "for file_name in all_files:\n",
    "  if os.path.isdir(file_name):\n",
    "    continue\n",
    "  if not any(file_name.endswith(ext) for ext in SUPPORTED_EXT):\n",
    "    print('Skipping', file_name, '...')\n",
    "    continue\n",
    "  full_path = os.path.join(FILES_DIR, file_name)\n",
    "  if has_alpha(full_path):\n",
    "    print('Skipping because of alpha channel:', file_name)\n",
    "    continue\n",
    "  file_name, _ = os.path.splitext(file_name)\n",
    "\n",
    "  compressed_path = os.path.join(OUT_DIR, f'{file_name}_{model}.tfci')\n",
    "  output_path = os.path.join(OUT_DIR, f'{file_name}_{model}.png')\n",
    "\n",
    "  if os.path.isfile(output_path):\n",
    "    print('Exists already:', output_path)\n",
    "    num_bytes = os.path.getsize(compressed_path)\n",
    "    all_outputs.append(\n",
    "      File(output_path, num_bytes,\n",
    "           get_bpp(Image.open(full_path).size, num_bytes)))\n",
    "    continue\n",
    "\n",
    "  print('Compressing', file_name, 'with', model, '...')\n",
    "  tfci.compress(model, full_path, compressed_path)\n",
    "  num_bytes = os.path.getsize(compressed_path)\n",
    "  print(f'Compressed to {num_bytes} bytes.')\n",
    "\n",
    "  print('Decompressing...')\n",
    "  tfci.decompress(compressed_path, output_path)\n",
    "\n",
    "  all_outputs.append(\n",
    "      File(output_path, num_bytes,\n",
    "           get_bpp(Image.open(full_path).size, num_bytes)))\n",
    "\n",
    "print('All done!')"
   ]
  },
  {
   "cell_type": "markdown",
   "metadata": {
    "id": "HQhQQs-CTkgy"
   },
   "source": [
    "# Show output"
   ]
  },
  {
   "cell_type": "code",
   "execution_count": null,
   "metadata": {
    "id": "1UrrTTm_b4WU"
   },
   "outputs": [],
   "source": [
    "tfci.compress(model, full_path, compressed_path)"
   ]
  },
  {
   "cell_type": "code",
   "execution_count": null,
   "metadata": {
    "colab": {
     "base_uri": "https://localhost:8080/"
    },
    "id": "jfPGRMZobe6O",
    "outputId": "fea455d0-e4b3-4882-9b39-0e620a23ad08"
   },
   "outputs": [
    {
     "name": "stdout",
     "output_type": "stream",
     "text": [
      "Decompressing...\n"
     ]
    }
   ],
   "source": [
    "for file_name in all_files[3:]:\n",
    "  file_name, _ = os.path.splitext(file_name)\n",
    "  compressed_path = os.path.join(OUT_DIR, f'{file_name}_{model}.tfci')\n",
    "  output_path = os.path.join(OUT_DIR, f'{file_name}_{model}.png')\n",
    "  full_path = os.path.join(FILES_DIR, file_name)\n",
    "  print('Decompressing...')\n",
    "  tfci.decompress(compressed_path, output_path)\n",
    "\n",
    "  all_outputs.append(\n",
    "      File(output_path, num_bytes,\n",
    "           get_bpp(Image.open(full_path).size, num_bytes)))"
   ]
  },
  {
   "cell_type": "code",
   "execution_count": null,
   "metadata": {
    "id": "3nVCPeDnskD8"
   },
   "outputs": [],
   "source": [
    "make_cell_large()  # Larger output window.\n",
    "\n",
    "for file in all_outputs:\n",
    "  print_html('<hr/>')\n",
    "  print(f'Showing {file.full_path} | {file.num_bytes//1000}kB | {file.bpp:.4f}bpp')\n",
    "  display(Image.open(file.full_path))\n",
    "  print_html('<hr/>')"
   ]
  },
  {
   "cell_type": "markdown",
   "metadata": {
    "id": "4b-wkBnyrTAR"
   },
   "source": [
    "### Download all compressed images.\n",
    "\n",
    "To download all images, run the following cell.\n",
    "\n",
    "You can also use the _Files_ tab on the left to manually select images.\n",
    "\n",
    "---\n",
    "\n",
    "#### **Note**: the images are saved as PNGs and thus very large. The bitrate used by HiFiC is given in the name."
   ]
  },
  {
   "cell_type": "code",
   "execution_count": null,
   "metadata": {
    "id": "9BKccvcTpj1k"
   },
   "outputs": [],
   "source": [
    "ZIP = '/content/images.zip'\n",
    "\n",
    "with zipfile.ZipFile(ZIP, 'w') as zf:\n",
    "  for f in all_outputs:\n",
    "    path_with_bpp = f.full_path.replace('.png', f'-{f.bpp:.3f}bpp.png')\n",
    "    zf.write(f.full_path, os.path.basename(path_with_bpp))\n",
    "\n",
    "files.download(ZIP)"
   ]
  }
 ],
 "metadata": {
  "accelerator": "GPU",
  "colab": {
   "gpuType": "V100",
   "machine_shape": "hm",
   "provenance": []
  },
  "kernelspec": {
   "display_name": "Python 3 (ipykernel)",
   "language": "python",
   "name": "python3"
  },
  "language_info": {
   "codemirror_mode": {
    "name": "ipython",
    "version": 3
   },
   "file_extension": ".py",
   "mimetype": "text/x-python",
   "name": "python",
   "nbconvert_exporter": "python",
   "pygments_lexer": "ipython3",
   "version": "3.11.5"
  }
 },
 "nbformat": 4,
 "nbformat_minor": 4
}
